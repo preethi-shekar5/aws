{
  "nbformat": 4,
  "nbformat_minor": 0,
  "metadata": {
    "colab": {
      "name": "Day-9 assignment ",
      "provenance": [],
      "collapsed_sections": [],
      "authorship_tag": "ABX9TyOzJPNicCD2SFHMuBsCXO3o",
      "include_colab_link": true
    },
    "kernelspec": {
      "name": "python3",
      "display_name": "Python 3"
    }
  },
  "cells": [
    {
      "cell_type": "markdown",
      "metadata": {
        "id": "view-in-github",
        "colab_type": "text"
      },
      "source": [
        "<a href=\"https://colab.research.google.com/github/preethi-shekar5/aws/blob/master/Day_9_assignment.ipynb\" target=\"_parent\"><img src=\"https://colab.research.google.com/assets/colab-badge.svg\" alt=\"Open In Colab\"/></a>"
      ]
    },
    {
      "cell_type": "code",
      "metadata": {
        "id": "3BRrMO2UqrPj",
        "colab_type": "code",
        "colab": {}
      },
      "source": [
        "lst = list(range(1001))\n",
        "def Armstrong(lst):\n",
        " for num in lst:\n",
        "        order =len(str(num))\n",
        "        sum = 0\n",
        "        temp = num \n",
        "        while temp>0:\n",
        "          digit = temp % 10\n",
        "          sum += digit ** order\n",
        "          temp //=10\n",
        "        if num==sum:\n",
        "           yield num"
      ],
      "execution_count": 1,
      "outputs": []
    },
    {
      "cell_type": "code",
      "metadata": {
        "id": "w13EQNZrsOGb",
        "colab_type": "code",
        "colab": {
          "base_uri": "https://localhost:8080/",
          "height": 54
        },
        "outputId": "88d37418-2076-454d-ec25-d08860e4d9c5"
      },
      "source": [
        "list(Armstrong(lst))"
      ],
      "execution_count": 3,
      "outputs": [
        {
          "output_type": "execute_result",
          "data": {
            "text/plain": [
              "[0, 1, 2, 3, 4, 5, 6, 7, 8, 9, 153, 370, 371, 407]"
            ]
          },
          "metadata": {
            "tags": []
          },
          "execution_count": 3
        }
      ]
    }
  ]
}